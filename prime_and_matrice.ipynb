{
  "nbformat": 4,
  "nbformat_minor": 0,
  "metadata": {
    "colab": {
      "provenance": [],
      "authorship_tag": "ABX9TyPbIDy+02sG+n29VGvrPELd",
      "include_colab_link": true
    },
    "kernelspec": {
      "name": "python3",
      "display_name": "Python 3"
    },
    "language_info": {
      "name": "python"
    }
  },
  "cells": [
    {
      "cell_type": "markdown",
      "metadata": {
        "id": "view-in-github",
        "colab_type": "text"
      },
      "source": [
        "<a href=\"https://colab.research.google.com/github/raeesa1718/deeplearning/blob/main/prime_and_matrice.ipynb\" target=\"_parent\"><img src=\"https://colab.research.google.com/assets/colab-badge.svg\" alt=\"Open In Colab\"/></a>"
      ]
    },
    {
      "cell_type": "code",
      "source": [
        "import math\n",
        "\n",
        "def is_prime(n):\n",
        "    if n <= 1:\n",
        "        return False\n",
        "    if n <= 3:\n",
        "        return True\n",
        "    if n % 2 == 0 or n % 3 == 0:\n",
        "        return False\n",
        "    i = 5\n",
        "    while i * i <= n:\n",
        "        if n % i == 0 or n % (i + 2) == 0:\n",
        "            return False\n",
        "        i += 6\n",
        "    return True\n",
        "\n",
        "# Example usage\n",
        "print(is_prime(29))  # Output: True\n",
        "print(is_prime(15))  # Output: False\n"
      ],
      "metadata": {
        "id": "r1_QcMAyh029",
        "colab": {
          "base_uri": "https://localhost:8080/"
        },
        "outputId": "1685e04d-8a0a-456c-f6a1-9c81368830f3"
      },
      "execution_count": 36,
      "outputs": [
        {
          "output_type": "stream",
          "name": "stdout",
          "text": [
            "True\n",
            "False\n"
          ]
        }
      ]
    },
    {
      "cell_type": "code",
      "source": [
        "def matrix_multiply(A, B):\n",
        "    # Number of rows in A\n",
        "    m = len(A)\n",
        "    # Number of columns in B\n",
        "    p = len(B[0])\n",
        "    # Number of columns in A\n",
        "    n = len(A[0])\n",
        "\n",
        "    # Initialize result matrix with zeros\n",
        "    C = [[0] * p for _ in range(m)]\n",
        "\n",
        "    # Perform matrix multiplication\n",
        "    for i in range(m):\n",
        "        for j in range(p):\n",
        "            C[i][j] = sum(A[i][k] * B[k][j] for k in range(n))\n",
        "\n",
        "    return C\n",
        "\n",
        "# Example matrices\n",
        "A = [\n",
        "    [1, 2],\n",
        "    [3, 4]\n",
        "]\n",
        "\n",
        "B = [\n",
        "    [5, 6],\n",
        "    [7, 8]\n",
        "]\n",
        "\n",
        "# Multiply matrices\n",
        "C = matrix_multiply(A, B)\n",
        "\n",
        "# Print result\n",
        "for row in C:\n",
        "    print(row)\n"
      ],
      "metadata": {
        "colab": {
          "base_uri": "https://localhost:8080/"
        },
        "id": "my8rEOUujSZm",
        "outputId": "3c2d3fd9-c583-4d88-c09e-ba0516562cea"
      },
      "execution_count": 37,
      "outputs": [
        {
          "output_type": "stream",
          "name": "stdout",
          "text": [
            "[19, 22]\n",
            "[43, 50]\n"
          ]
        }
      ]
    }
  ]
}