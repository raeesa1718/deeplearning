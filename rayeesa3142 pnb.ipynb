{
  "nbformat": 4,
  "nbformat_minor": 0,
  "metadata": {
    "colab": {
      "provenance": [],
      "toc_visible": true,
      "authorship_tag": "ABX9TyNJ3MHqUN1Nn7aFsbJ9G9Z+",
      "include_colab_link": true
    },
    "kernelspec": {
      "name": "python3",
      "display_name": "Python 3"
    },
    "language_info": {
      "name": "python"
    }
  },
  "cells": [
    {
      "cell_type": "markdown",
      "metadata": {
        "id": "view-in-github",
        "colab_type": "text"
      },
      "source": [
        "<a href=\"https://colab.research.google.com/github/raeesa1718/deeplearning/blob/main/rayeesa3142%20pnb.ipynb\" target=\"_parent\"><img src=\"https://colab.research.google.com/assets/colab-badge.svg\" alt=\"Open In Colab\"/></a>"
      ]
    },
    {
      "cell_type": "markdown",
      "source": [
        "\n"
      ],
      "metadata": {
        "id": "I8XvQ97gUihl"
      }
    },
    {
      "cell_type": "code",
      "source": [
        "import numpy as np\n",
        "# Scalar example\n",
        "scalar = np.array(5)\n",
        "print(\"Scalar value:\", scalar)"
      ],
      "metadata": {
        "colab": {
          "base_uri": "https://localhost:8080/"
        },
        "id": "t6ML02wLzP_x",
        "outputId": "c492abc8-724b-4f38-9cb7-efc6145c192e"
      },
      "execution_count": null,
      "outputs": [
        {
          "output_type": "stream",
          "name": "stdout",
          "text": [
            "Scalar value: 5\n"
          ]
        }
      ]
    },
    {
      "cell_type": "markdown",
      "source": [
        "# lab 1"
      ],
      "metadata": {
        "id": "Q6z5E5RFziAA"
      }
    },
    {
      "cell_type": "code",
      "source": [
        "import numpy as np\n",
        "\n",
        "# Scalar example\n",
        "scalar = np.array(5)\n",
        "print(\"Scalar value:\", scalar)\n",
        "\n",
        "# Vector example\n",
        "vector = np.array([1, 2, 3])\n",
        "print(\"Vector values:\", vector)\n",
        "\n",
        "# 2D Tensor (Matrix) example\n",
        "matrix = np.array([[1, 2, 3], [4, 5, 6]])\n",
        "print(\"2D Tensor (Matrix):\\n\", matrix)\n",
        "\n",
        "# 3D Tensor example\n",
        "tensor_3d = np.array([[[1, 2, 3], [4, 5, 6]], [[7, 8, 9], [10, 11, 12]]])\n",
        "print(\"3D Tensor:\\n\", tensor_3d)\n",
        "\n",
        "# 4D Tensor example\n",
        "tensor_4d = np.random.rand(2, 3, 4, 5)\n",
        "print(\"Shape of 4D Tensor:\", tensor_4d.shape)\n"
      ],
      "metadata": {
        "colab": {
          "base_uri": "https://localhost:8080/"
        },
        "id": "Vq5pDQXQzkhI",
        "outputId": "f59c3da0-84fb-44c1-d6ac-347d988da1ef"
      },
      "execution_count": null,
      "outputs": [
        {
          "output_type": "stream",
          "name": "stdout",
          "text": [
            "Scalar value: 5\n",
            "Vector values: [1 2 3]\n",
            "2D Tensor (Matrix):\n",
            " [[1 2 3]\n",
            " [4 5 6]]\n",
            "3D Tensor:\n",
            " [[[ 1  2  3]\n",
            "  [ 4  5  6]]\n",
            "\n",
            " [[ 7  8  9]\n",
            "  [10 11 12]]]\n",
            "Shape of 4D Tensor: (2, 3, 4, 5)\n"
          ]
        }
      ]
    },
    {
      "cell_type": "markdown",
      "source": [
        "# **program to predict sum of two numbers**"
      ],
      "metadata": {
        "id": "bvK13ueOzvwC"
      }
    },
    {
      "cell_type": "code",
      "source": [
        "import numpy as np\n",
        "from tensorflow.keras.models import Sequential\n",
        "from tensorflow.keras.layers import Dense\n",
        "from sklearn.model_selection import train_test_split\n",
        "\n",
        "# Step 1: Generate Training Data\n",
        "def generate_data(num_samples):\n",
        "    x1 = np.random.randint(0, 100, size=num_samples)\n",
        "    x2 = np.random.randint(0, 100, size=num_samples)\n",
        "    y = x1 + x2\n",
        "    return np.vstack((x1, x2)).T, y\n",
        "\n",
        "num_samples = 10000\n",
        "X, y = generate_data(num_samples)\n",
        "\n",
        "# Split the data into training and testing sets\n",
        "X_train, X_test, y_train, y_test = train_test_split(X, y, test_size=0.2, random_state=42)\n",
        "\n",
        "# Step 2: Define the Model\n",
        "model = Sequential()\n",
        "model.add(Dense(10, input_dim=2, activation='relu'))  # Input layer with 2 inputs\n",
        "model.add(Dense(5, activation='relu'))  # Hidden layer\n",
        "model.add(Dense(1))  # Output layer\n",
        "\n",
        "# Step 3: Compile the Model\n",
        "model.compile(optimizer='adam', loss='mean_squared_error')\n",
        "\n",
        "# Step 4: Train the Model\n",
        "model.fit(X_train, y_train, epochs=50, batch_size=32, validation_split=0.2)\n",
        "\n",
        "# Step 5: Evaluate the Model\n",
        "loss = model.evaluate(X_test, y_test)\n",
        "print(f'Test Loss: {loss}')"
      ],
      "metadata": {
        "colab": {
          "base_uri": "https://localhost:8080/"
        },
        "id": "AVIgguoyz39r",
        "outputId": "ef8d8f12-f422-4fcc-b14e-939ab5578896"
      },
      "execution_count": null,
      "outputs": [
        {
          "output_type": "stream",
          "name": "stdout",
          "text": [
            "Epoch 1/50\n",
            "200/200 [==============================] - 2s 4ms/step - loss: 2208.7046 - val_loss: 4.1262\n",
            "Epoch 2/50\n",
            "200/200 [==============================] - 0s 2ms/step - loss: 2.6005 - val_loss: 1.4545\n",
            "Epoch 3/50\n",
            "200/200 [==============================] - 0s 2ms/step - loss: 0.9544 - val_loss: 0.5821\n",
            "Epoch 4/50\n",
            "200/200 [==============================] - 0s 2ms/step - loss: 0.4400 - val_loss: 0.3298\n",
            "Epoch 5/50\n",
            "200/200 [==============================] - 0s 2ms/step - loss: 0.2888 - val_loss: 0.2446\n",
            "Epoch 6/50\n",
            "200/200 [==============================] - 0s 2ms/step - loss: 0.2227 - val_loss: 0.1917\n",
            "Epoch 7/50\n",
            "200/200 [==============================] - 0s 2ms/step - loss: 0.1788 - val_loss: 0.1547\n",
            "Epoch 8/50\n",
            "200/200 [==============================] - 0s 2ms/step - loss: 0.1473 - val_loss: 0.1282\n",
            "Epoch 9/50\n",
            "200/200 [==============================] - 0s 2ms/step - loss: 0.1238 - val_loss: 0.1080\n",
            "Epoch 10/50\n",
            "200/200 [==============================] - 0s 2ms/step - loss: 0.1051 - val_loss: 0.0931\n",
            "Epoch 11/50\n",
            "200/200 [==============================] - 0s 2ms/step - loss: 0.0903 - val_loss: 0.0801\n",
            "Epoch 12/50\n",
            "200/200 [==============================] - 0s 2ms/step - loss: 0.0772 - val_loss: 0.0691\n",
            "Epoch 13/50\n",
            "200/200 [==============================] - 0s 2ms/step - loss: 0.0660 - val_loss: 0.0589\n",
            "Epoch 14/50\n",
            "200/200 [==============================] - 0s 2ms/step - loss: 0.0563 - val_loss: 0.0498\n",
            "Epoch 15/50\n",
            "200/200 [==============================] - 0s 2ms/step - loss: 0.0474 - val_loss: 0.0418\n",
            "Epoch 16/50\n",
            "200/200 [==============================] - 0s 2ms/step - loss: 0.0394 - val_loss: 0.0345\n",
            "Epoch 17/50\n",
            "200/200 [==============================] - 0s 2ms/step - loss: 0.0324 - val_loss: 0.0282\n",
            "Epoch 18/50\n",
            "200/200 [==============================] - 0s 2ms/step - loss: 0.0263 - val_loss: 0.0227\n",
            "Epoch 19/50\n",
            "200/200 [==============================] - 0s 2ms/step - loss: 0.0211 - val_loss: 0.0184\n",
            "Epoch 20/50\n",
            "200/200 [==============================] - 0s 2ms/step - loss: 0.0167 - val_loss: 0.0144\n",
            "Epoch 21/50\n",
            "200/200 [==============================] - 0s 2ms/step - loss: 0.0128 - val_loss: 0.0108\n",
            "Epoch 22/50\n",
            "200/200 [==============================] - 0s 2ms/step - loss: 0.0099 - val_loss: 0.0083\n",
            "Epoch 23/50\n",
            "200/200 [==============================] - 0s 2ms/step - loss: 0.0076 - val_loss: 0.0066\n",
            "Epoch 24/50\n",
            "200/200 [==============================] - 0s 2ms/step - loss: 0.0057 - val_loss: 0.0047\n",
            "Epoch 25/50\n",
            "200/200 [==============================] - 0s 2ms/step - loss: 0.0043 - val_loss: 0.0036\n",
            "Epoch 26/50\n",
            "200/200 [==============================] - 0s 2ms/step - loss: 0.0033 - val_loss: 0.0027\n",
            "Epoch 27/50\n",
            "200/200 [==============================] - 0s 2ms/step - loss: 0.0026 - val_loss: 0.0022\n",
            "Epoch 28/50\n",
            "200/200 [==============================] - 1s 3ms/step - loss: 0.0020 - val_loss: 0.0017\n",
            "Epoch 29/50\n",
            "200/200 [==============================] - 1s 3ms/step - loss: 0.0017 - val_loss: 0.0014\n",
            "Epoch 30/50\n",
            "200/200 [==============================] - 1s 3ms/step - loss: 0.0013 - val_loss: 0.0011\n",
            "Epoch 31/50\n",
            "200/200 [==============================] - 1s 3ms/step - loss: 0.0011 - val_loss: 9.4068e-04\n",
            "Epoch 32/50\n",
            "200/200 [==============================] - 1s 3ms/step - loss: 9.1497e-04 - val_loss: 7.5810e-04\n",
            "Epoch 33/50\n",
            "200/200 [==============================] - 0s 2ms/step - loss: 8.0038e-04 - val_loss: 6.5552e-04\n",
            "Epoch 34/50\n",
            "200/200 [==============================] - 0s 2ms/step - loss: 6.3886e-04 - val_loss: 5.7082e-04\n",
            "Epoch 35/50\n",
            "200/200 [==============================] - 0s 2ms/step - loss: 5.4699e-04 - val_loss: 4.4780e-04\n",
            "Epoch 36/50\n",
            "200/200 [==============================] - 0s 2ms/step - loss: 4.6243e-04 - val_loss: 3.8489e-04\n",
            "Epoch 37/50\n",
            "200/200 [==============================] - 0s 2ms/step - loss: 3.9244e-04 - val_loss: 3.1434e-04\n",
            "Epoch 38/50\n",
            "200/200 [==============================] - 0s 2ms/step - loss: 3.0901e-04 - val_loss: 2.8075e-04\n",
            "Epoch 39/50\n",
            "200/200 [==============================] - 0s 2ms/step - loss: 2.6525e-04 - val_loss: 2.5478e-04\n",
            "Epoch 40/50\n",
            "200/200 [==============================] - 0s 2ms/step - loss: 2.2735e-04 - val_loss: 2.1066e-04\n",
            "Epoch 41/50\n",
            "200/200 [==============================] - 0s 2ms/step - loss: 1.9989e-04 - val_loss: 1.6796e-04\n",
            "Epoch 42/50\n",
            "200/200 [==============================] - 0s 2ms/step - loss: 1.7394e-04 - val_loss: 1.7223e-04\n",
            "Epoch 43/50\n",
            "200/200 [==============================] - 0s 2ms/step - loss: 1.5939e-04 - val_loss: 1.2918e-04\n",
            "Epoch 44/50\n",
            "200/200 [==============================] - 0s 2ms/step - loss: 1.2288e-04 - val_loss: 1.3219e-04\n",
            "Epoch 45/50\n",
            "200/200 [==============================] - 0s 2ms/step - loss: 9.9402e-05 - val_loss: 1.4124e-04\n",
            "Epoch 46/50\n",
            "200/200 [==============================] - 0s 2ms/step - loss: 1.0163e-04 - val_loss: 1.3291e-04\n",
            "Epoch 47/50\n",
            "200/200 [==============================] - 0s 2ms/step - loss: 7.4005e-05 - val_loss: 5.8697e-05\n",
            "Epoch 48/50\n",
            "200/200 [==============================] - 0s 2ms/step - loss: 5.4787e-05 - val_loss: 6.5496e-05\n",
            "Epoch 49/50\n",
            "200/200 [==============================] - 0s 2ms/step - loss: 5.8786e-05 - val_loss: 3.3013e-05\n",
            "Epoch 50/50\n",
            "200/200 [==============================] - 0s 2ms/step - loss: 4.0241e-05 - val_loss: 4.0046e-05\n",
            "63/63 [==============================] - 0s 1ms/step - loss: 3.8499e-05\n",
            "Test Loss: 3.849928907584399e-05\n"
          ]
        }
      ]
    }
  ]
}